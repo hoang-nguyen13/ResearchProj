{
 "cells": [
  {
   "cell_type": "code",
   "execution_count": 27,
   "metadata": {},
   "outputs": [],
   "source": [
    "using Plots\n",
    "using JLD2\n",
    "using LaTeXStrings\n",
    "using ColorTypes"
   ]
  },
  {
   "cell_type": "code",
   "execution_count": 28,
   "metadata": {},
   "outputs": [
    {
     "name": "stderr",
     "output_type": "stream",
     "text": [
      "WARNING: replacing module MyParams.\n"
     ]
    }
   ],
   "source": [
    "include(\"parameters.jl\")\n",
    "using .MyParams"
   ]
  },
  {
   "cell_type": "code",
   "execution_count": 57,
   "metadata": {},
   "outputs": [],
   "source": [
    "script_dir = @__DIR__\n",
    "plot_folder = joinpath(script_dir, \"plots\")\n",
    "if !isdir(plot_folder)\n",
    "    mkdir(plot_folder)\n",
    "end"
   ]
  },
  {
   "cell_type": "code",
   "execution_count": 58,
   "metadata": {},
   "outputs": [
    {
     "data": {
      "text/plain": [
       "100"
      ]
     },
     "metadata": {},
     "output_type": "display_data"
    }
   ],
   "source": [
    "dephasing = 100"
   ]
  },
  {
   "cell_type": "code",
   "execution_count": 59,
   "metadata": {},
   "outputs": [
    {
     "ename": "ArgumentError",
     "evalue": "ArgumentError: No file exists at given path: results_data/Δ=400,γ=100/sz_mean_steady_for_2D,Ω=3.5,Δ=400,γ=100.jld2",
     "output_type": "error",
     "traceback": [
      "ArgumentError: No file exists at given path: results_data/Δ=400,γ=100/sz_mean_steady_for_2D,Ω=3.5,Δ=400,γ=100.jld2\n",
      "\n",
      "Stacktrace:\n",
      " [1] checkpath_load(file::String)\n",
      "   @ FileIO ~/.julia/packages/FileIO/PtqMQ/src/loadsave.jl:167\n",
      " [2] load(::String; options::@Kwargs{})\n",
      "   @ FileIO ~/.julia/packages/FileIO/PtqMQ/src/loadsave.jl:110\n",
      " [3] load(::String)\n",
      "   @ FileIO ~/.julia/packages/FileIO/PtqMQ/src/loadsave.jl:109\n",
      " [4] top-level scope\n",
      "   @ /amd/home/agfleischhauer/quw51vuk/ResearchProj/TWA/Rydberg_facilitation/jl_notebook_cell_df34fa98e69747e1a8f8a730347b8e2f_W3sZmlsZQ==.jl:4"
     ]
    }
   ],
   "source": [
    "data_dict = Dict()\n",
    "for Ω in MyParams.Ω_values\n",
    "    file_name = \"results_data/Δ=$(MyParams.Δ),γ=$(MyParams.γ)/sz_mean_steady_for_$(MyParams.case)D,Ω=$(Ω),Δ=$(MyParams.Δ),γ=$(dephasing).jld2\"\n",
    "    data_dict[Ω] = load(file_name)\n",
    "end"
   ]
  },
  {
   "cell_type": "code",
   "execution_count": 60,
   "metadata": {},
   "outputs": [
    {
     "ename": "KeyError",
     "evalue": "KeyError: key 3.5 not found",
     "output_type": "error",
     "traceback": [
      "KeyError: key 3.5 not found\n",
      "\n",
      "Stacktrace:\n",
      " [1] getindex(h::Dict{Any, Any}, key::Float64)\n",
      "   @ Base ./dict.jl:477\n",
      " [2] top-level scope\n",
      "   @ /amd/home/agfleischhauer/quw51vuk/ResearchProj/TWA/Rydberg_facilitation/jl_notebook_cell_df34fa98e69747e1a8f8a730347b8e2f_W4sZmlsZQ==.jl:6"
     ]
    }
   ],
   "source": [
    "default(dpi=300)\n",
    "p1 = plot(\n",
    "    legend=false\n",
    ")\n",
    "for Ω in MyParams.Ω_values\n",
    "    data = data_dict[Ω]\n",
    "    t = data[\"t\"]\n",
    "    sz_mean_mean = vec(data[\"sz_mean_mean\"])\n",
    "    plot!(p1, t, sz_mean_mean, label=\"Ω=$(Ω)\")\n",
    "end\n",
    "xlabel!(p1, L\"t \\Gamma\")\n",
    "ylabel!(p1, L\"\\langle s_z(t) \\rangle\")\n",
    "title!(p1, \"\\\\gamma = $(MyParams.γ), Δ = $(MyParams.Δ), $(MyParams.case)D, \n",
    "$(MyParams.nAtoms) atoms\")\n",
    "display(p1)\n",
    "# savefig(\"plots/dynamic_rydberg_facilitation_$(MyParams.case)D,\n",
    "$(MyParams.nAtoms)_atoms, γ = $(MyParams.γ), Δ = $(MyParams.Δ).png\")"
   ]
  },
  {
   "cell_type": "markdown",
   "metadata": {},
   "source": [
    "Load data"
   ]
  },
  {
   "cell_type": "markdown",
   "metadata": {},
   "source": [
    "Plots"
   ]
  },
  {
   "cell_type": "code",
   "execution_count": 61,
   "metadata": {},
   "outputs": [
    {
     "ename": "KeyError",
     "evalue": "KeyError: key 4.0 not found",
     "output_type": "error",
     "traceback": [
      "KeyError: key 4.0 not found\n",
      "\n",
      "Stacktrace:\n",
      " [1] getindex(h::Dict{Any, Any}, key::Float64)\n",
      "   @ Base ./dict.jl:477\n",
      " [2] top-level scope\n",
      "   @ /amd/home/agfleischhauer/quw51vuk/ResearchProj/TWA/Rydberg_facilitation/jl_notebook_cell_df34fa98e69747e1a8f8a730347b8e2f_X10sZmlsZQ==.jl:11"
     ]
    }
   ],
   "source": [
    "selected_Ω = [0.1, 1:4..., 4.5, 5:0.2:7..., 7.3, 7.5, 8:0.5:20..., 21:2:59...]\n",
    "p6 = plot(\n",
    "    xscale=:log10,\n",
    "    yscale=:log10,\n",
    "    legend=false,\n",
    "    xlim=(1e-0, 25),\n",
    "    ylim=(1e-3, 1)\n",
    ")\n",
    "for Ω in MyParams.Ω_values\n",
    "    Ω in selected_Ω || continue\n",
    "    data = data_dict[Ω]\n",
    "    plot!(p6, data[\"t\"], vec(data[\"sz_mean_mean\"]) .+ 1e-3, \n",
    "          label=\"Ω=$(Ω)\", linewidth=3)\n",
    "end\n",
    "t_dash = data_dict[1][\"t\"]\n",
    "dash_line = t_dash .^ (-MyParams.delta) .* 0.315\n",
    "plot!(p6, t_dash, dash_line,\n",
    "    linestyle=:dash, \n",
    "    color=:black, \n",
    "    linewidth=2, \n",
    "    label=\"t^(-$(MyParams.delta))\"\n",
    ")\n",
    "xlabel!(p6, L\"t \\Gamma\")\n",
    "ylabel!(p6, L\"\\langle s_z(t) \\rangle\")\n",
    "title!(p6, \"\\\\gamma = $(MyParams.γ), Δ = $(MyParams.Δ), $(MyParams.case)D, \n",
    "$(MyParams.nAtoms) atoms\")\n",
    "display(p6)"
   ]
  },
  {
   "cell_type": "code",
   "execution_count": 62,
   "metadata": {},
   "outputs": [
    {
     "ename": "KeyError",
     "evalue": "KeyError: key 4.5 not found",
     "output_type": "error",
     "traceback": [
      "KeyError: key 4.5 not found\n",
      "\n",
      "Stacktrace:\n",
      " [1] getindex(h::Dict{Any, Any}, key::Float64)\n",
      "   @ Base ./dict.jl:477\n",
      " [2] top-level scope\n",
      "   @ /amd/home/agfleischhauer/quw51vuk/ResearchProj/TWA/Rydberg_facilitation/jl_notebook_cell_df34fa98e69747e1a8f8a730347b8e2f_X11sZmlsZQ==.jl:13"
     ]
    }
   ],
   "source": [
    "for Ω_crit in 8:0.1:9\n",
    "    p5 = plot(\n",
    "        legend=false,\n",
    "        xlabel=L\"t |\\Omega - \\Omega_{\\text{c}}|^{\\frac{\\beta}{\\delta}}\",\n",
    "        ylabel=L\"t^\\delta \\langle s_z \\rangle\",\n",
    "        title=\"Ω_crit = $Ω_crit, γ = $(MyParams.γ), Δ = $(MyParams.Δ), \n",
    "        $(MyParams.case)D, $(MyParams.nAtoms) atoms\"\n",
    "    )\n",
    "\n",
    "    selected_Ω = [4.5, 5.0, 5.1, 5.3, 5.5, 5.7, 9.5, 10.0, 11.0]\n",
    "    \n",
    "    for Ω in selected_Ω\n",
    "        data = data_dict[Ω]\n",
    "        t = data[\"t\"]\n",
    "        sz_mean_mean = vec(data[\"sz_mean_mean\"])\n",
    "        \n",
    "        # Filter valid data points\n",
    "        valid_data = findall(t .> 0 .&& sz_mean_mean .> 0)\n",
    "        isempty(valid_data) && continue\n",
    "        \n",
    "        # Calculate scaled coordinates\n",
    "        x_scaled = t[valid_data] .* abs.(Ω - Ω_crit) .^ (MyParams.beta / MyParams.delta)\n",
    "        y_scaled = t[valid_data] .^ MyParams.delta .* sz_mean_mean[valid_data]\n",
    "        \n",
    "        # Plot if we have valid points\n",
    "        plot!(p5, log.(x_scaled), log.(y_scaled), linewidth=2)\n",
    "    end\n",
    "    display(p5)\n",
    "end"
   ]
  },
  {
   "cell_type": "markdown",
   "metadata": {},
   "source": [
    "Omega vs. sz"
   ]
  },
  {
   "cell_type": "code",
   "execution_count": 63,
   "metadata": {},
   "outputs": [
    {
     "ename": "KeyError",
     "evalue": "KeyError: key 4.0 not found",
     "output_type": "error",
     "traceback": [
      "KeyError: key 4.0 not found\n",
      "\n",
      "Stacktrace:\n",
      " [1] getindex(h::Dict{Any, Any}, key::Float64)\n",
      "   @ Base ./dict.jl:477\n",
      " [2] top-level scope\n",
      "   @ /amd/home/agfleischhauer/quw51vuk/ResearchProj/TWA/Rydberg_facilitation/jl_notebook_cell_df34fa98e69747e1a8f8a730347b8e2f_X13sZmlsZQ==.jl:21"
     ]
    }
   ],
   "source": [
    "p2 = plot(\n",
    "    title=\"γ = $(MyParams.γ), Δ = $(MyParams.Δ), $(MyParams.nAtoms) atoms\",\n",
    "    xlabel=L\"\\Omega\",\n",
    "    ylabel=L\"\\langle s_z \\rangle\"\n",
    ")\n",
    "\n",
    "# Define selected Ω values more concisely\n",
    "selected_Ω = [\n",
    "    0.1, 1:4..., 4.5, 5.0, 5.3, 5.7,\n",
    "    6.1:0.2:8.0..., 8.5,\n",
    "    9.0:0.5:25.0...,\n",
    "    27:2:59...\n",
    "]\n",
    "\n",
    "final_sz_values = Float64[]\n",
    "Ωvalues = Float64[]\n",
    "Ω_crit = 9\n",
    "\n",
    "for Ω in MyParams.Ω_values\n",
    "    Ω in selected_Ω || continue\n",
    "    data = data_dict[Ω]\n",
    "    sz_mean_mean = vec(data[\"sz_mean_mean\"])\n",
    "    push!(final_sz_values, last(sz_mean_mean))\n",
    "    push!(Ωvalues, Ω)\n",
    "end\n",
    "\n",
    "scatter!(\n",
    "    Ωvalues, final_sz_values,\n",
    "    marker=:circle, markersize=6, color=:blue,\n",
    "    linestyle=:auto, legend=:topright, label=false\n",
    ")\n",
    "\n",
    "vline!([Ω_crit], color=:black, linestyle=:dash, linewidth=2, label=false)\n",
    "display(p2)"
   ]
  },
  {
   "cell_type": "markdown",
   "metadata": {},
   "source": [
    "ln|Ω_values .- Ω_crit| vs. ln(<'Sz'>)"
   ]
  },
  {
   "cell_type": "code",
   "execution_count": 64,
   "metadata": {},
   "outputs": [
    {
     "ename": "KeyError",
     "evalue": "KeyError: key 8.5 not found",
     "output_type": "error",
     "traceback": [
      "KeyError: key 8.5 not found\n",
      "\n",
      "Stacktrace:\n",
      " [1] getindex(h::Dict{Any, Any}, key::Float64)\n",
      "   @ Base ./dict.jl:477\n",
      " [2] top-level scope\n",
      "   @ /amd/home/agfleischhauer/quw51vuk/ResearchProj/TWA/Rydberg_facilitation/jl_notebook_cell_df34fa98e69747e1a8f8a730347b8e2f_X15sZmlsZQ==.jl:9"
     ]
    }
   ],
   "source": [
    "Ω_crit_values = 8:0.05:8.5\n",
    "fixed_beta = MyParams.beta\n",
    "prefactor = 0.069\n",
    "for Ω_crit in Ω_crit_values\n",
    "    final_sz_values = Float64[]\n",
    "    filtered_Ω_values = Float64[]\n",
    "    for Ω in MyParams.Ω_values\n",
    "        if Ω - Ω_crit > 0.1\n",
    "            data = data_dict[Ω]\n",
    "            sz_mean_mean = vec(data[\"sz_mean_mean\"])\n",
    "            last_value = last(sz_mean_mean)\n",
    "            push!(final_sz_values, last_value)\n",
    "            push!(filtered_Ω_values, Ω)\n",
    "        end\n",
    "    end\n",
    "    xaxis = log.(abs.(filtered_Ω_values .- Ω_crit))\n",
    "    yaxis = log.(final_sz_values)\n",
    "    p3 = scatter(\n",
    "        xaxis, \n",
    "        yaxis,\n",
    "        marker=:circle,\n",
    "        markersize=6,\n",
    "        color=:blue,\n",
    "        legend=:topleft,\n",
    "        label=\"sz\",\n",
    "        #xlim=[-0.5,1.25],\n",
    "        #ylim=[-2, -0.9],\n",
    "        title= \"Ω_crit = $Ω_crit, γ = $(MyParams.γ), Δ = $(MyParams.Δ), $(MyParams.case)D, \n",
    "        $(MyParams.nAtoms) atoms\",\n",
    "        xlabel=L\"\\ln|\\Omega - \\Omega_\\mathrm{crit}|\",\n",
    "        ylabel=L\"\\ln(\\langle s_z \\rangle)\",\n",
    "    )\n",
    "    power_law_y = log.(abs.(filtered_Ω_values .- Ω_crit) .^ fixed_beta .* prefactor)\n",
    "    plot!(\n",
    "        xaxis, \n",
    "        power_law_y,\n",
    "        color=:red,\n",
    "        linestyle=:dash,\n",
    "        label=\"|Ω - Ω_crit|^$(fixed_beta)\",\n",
    "        linewidth=3\n",
    "    )\n",
    "    display(p3)\n",
    "end"
   ]
  },
  {
   "cell_type": "code",
   "execution_count": 65,
   "metadata": {},
   "outputs": [],
   "source": [
    "# nAtoms_values = [100,225,400]\n",
    "# Ω = 6.2"
   ]
  },
  {
   "cell_type": "code",
   "execution_count": 66,
   "metadata": {},
   "outputs": [],
   "source": [
    "# data_dict = Dict()\n",
    "# for natoms in nAtoms_values\n",
    "#     file_name = \"results_data/sz_mean_steady_for_$(MyParams.case)D, $(natoms)_atoms, Ω=$(Ω).jld2\"\n",
    "#     data_dict[natoms] = load(file_name)\n",
    "# end"
   ]
  },
  {
   "cell_type": "code",
   "execution_count": 67,
   "metadata": {},
   "outputs": [],
   "source": [
    "# p10 = plot(\n",
    "#     xscale=:log10,\n",
    "#     yscale=:log10,\n",
    "#     legend=:bottomleft,\n",
    "#     xlim=[2,25],\n",
    "#     #ylim=[0.01,0.4],\n",
    "# )\n",
    "# for natoms in nAtoms_values\n",
    "#     data = data_dict[natoms]\n",
    "#     t = data[\"t\"]\n",
    "#     sz_mean_mean = vec(data[\"sz_mean_mean\"])\n",
    "#     plot!(p10, t .+ 1e-3, sz_mean_mean, label=\"$(natoms) atoms,Ω=$(Ω), Δ = $(MyParams.Δ)\", linewidth=3)\n",
    "# end\n",
    "# data = data_dict[100]\n",
    "# t = data[\"t\"]\n",
    "# t_dash = t\n",
    "# dash_line = t_dash .^ (-MyParams.delta) .* 0.315\n",
    "# plot!(p10, t_dash, dash_line,\n",
    "#     linestyle=:dash, \n",
    "#     color=:black, \n",
    "#     linewidth=2, label=\"t^(-$(MyParams.delta))\")\n",
    "# xlabel!(p10, L\"t \\Gamma\")\n",
    "# ylabel!(p10, L\"\\langle s_z(t) \\rangle\")\n",
    "# display(p10)"
   ]
  }
 ],
 "metadata": {
  "kernelspec": {
   "display_name": "Julia 1.11.1",
   "language": "julia",
   "name": "julia-1.11"
  },
  "language_info": {
   "file_extension": ".jl",
   "mimetype": "application/julia",
   "name": "julia",
   "version": "1.11.1"
  }
 },
 "nbformat": 4,
 "nbformat_minor": 2
}
