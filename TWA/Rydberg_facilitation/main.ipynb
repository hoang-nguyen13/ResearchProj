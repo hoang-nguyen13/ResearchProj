{
 "cells": [
  {
   "cell_type": "code",
   "execution_count": 1,
   "metadata": {},
   "outputs": [],
   "source": [
    "using LaTeXStrings\n",
    "using JLD2\n",
    "using LinearAlgebra\n",
    "using Statistics\n",
    "using DifferentialEquations\n",
    "using Random\n",
    "using Folds\n",
    "BLAS.set_num_threads(1)"
   ]
  },
  {
   "cell_type": "code",
   "execution_count": 140,
   "metadata": {},
   "outputs": [
    {
     "data": {
      "text/plain": [
       "sampleSpinZMinus (generic function with 1 method)"
      ]
     },
     "metadata": {},
     "output_type": "display_data"
    }
   ],
   "source": [
    "function sampleSpinZPlus(n)\n",
    "    θ = fill(acos(1 / sqrt(3)), n)\n",
    "    ϕ = 2π * rand(n)                  \n",
    "    return θ, ϕ\n",
    "end\n",
    "function sampleSpinZMinus(n)\n",
    "    θ = fill(π - acos(1 / sqrt(3)), n)   \n",
    "    ϕ = 2π * rand(n)                  \n",
    "    return θ, ϕ\n",
    "end\n"
   ]
  },
  {
   "cell_type": "code",
   "execution_count": 141,
   "metadata": {},
   "outputs": [
    {
     "data": {
      "text/plain": [
       "prob_func (generic function with 1 method)"
      ]
     },
     "metadata": {},
     "output_type": "display_data"
    }
   ],
   "source": [
    "function prob_func(prob, i, repeat)\n",
    "    u0 = Vector{Float64}(undef, 2 * nAtoms)\n",
    "    excited_indices_set = Set(excited_indices)\n",
    "    non_excited_indices = setdiff(1:nAtoms, excited_indices)\n",
    "    θ_excited, ϕ_excited = sampleSpinZPlus(length(excited_indices))\n",
    "    u0[excited_indices] = θ_excited\n",
    "    u0[nAtoms.+excited_indices] = ϕ_excited\n",
    "    θ_non_excited, ϕ_non_excited = sampleSpinZMinus(length(non_excited_indices))\n",
    "    u0[non_excited_indices] = θ_non_excited\n",
    "    u0[nAtoms.+non_excited_indices] = ϕ_non_excited\n",
    "    return remake(prob, u0=u0)\n",
    "end\n"
   ]
  },
  {
   "cell_type": "code",
   "execution_count": 142,
   "metadata": {},
   "outputs": [
    {
     "data": {
      "text/plain": [
       "diffusion! (generic function with 1 method)"
      ]
     },
     "metadata": {},
     "output_type": "display_data"
    }
   ],
   "source": [
    "function drift!(du, u, p, t)\n",
    "    neighbors = get_neighbors_vectorized(nAtoms)\n",
    "    Ω, Δ, V, Γ, γ = p\n",
    "    θ = u[1:nAtoms]\n",
    "    ϕ = u[nAtoms.+(1:nAtoms)]\n",
    "    sqrt_3 = sqrt(3)\n",
    "    dϕ_drift_sum = zeros(nAtoms)\n",
    "    if case == 1\n",
    "        dϕ_drift_sum[2:end-1] .= 2 .+ sqrt_3 .* (cos.(θ[1:end-2]) .+ cos.(θ[3:end]))\n",
    "        dϕ_drift_sum[1] = 1 + sqrt_3 * cos(θ[2]) \n",
    "        dϕ_drift_sum[end] = 1 + sqrt_3 * cos(θ[end-1])\n",
    "    end\n",
    "    if case == 2\n",
    "        for n in 1:nAtoms\n",
    "            neighbor_indices = neighbors[n]\n",
    "            dϕ_drift_sum[n] = sum(1 .+ sqrt_3 * cos.(θ[neighbor_indices]))\n",
    "        end\n",
    "    end\n",
    "    cotθ = cot.(θ)\n",
    "    cscθ = csc.(θ)\n",
    "    dθ_drift = -2 .* Ω .* sin.(ϕ) .+ Γ .* (cotθ .+ cscθ ./ sqrt_3)\n",
    "    dϕ_drift = -2 .* Ω .* cotθ .* cos.(ϕ) .+ (V / 2) .* dϕ_drift_sum .- Δ\n",
    "    du[1:nAtoms] .= dθ_drift\n",
    "    du[nAtoms.+(1:nAtoms)] .= dϕ_drift\n",
    "end\n",
    "function diffusion!(du, u, p, t)\n",
    "    Ω, Δ, V, Γ, γ = p\n",
    "    θ = u[1:nAtoms]\n",
    "    sqrt_3 = sqrt(3)\n",
    "    term1 = 9 / 6\n",
    "    term2 = (4 * sqrt_3 / 6) .* cos.(θ)\n",
    "    term3 = (3 / 6) .* cos.(2 .* θ)\n",
    "    cscθ2 = csc.(θ) .^ 2\n",
    "    diffusion = sqrt.(Γ .* (term1 .+ term2 .+ term3) .* cscθ2 .+ 4 .* γ)\n",
    "    du[1:nAtoms] .= 0.0\n",
    "    du[nAtoms.+(1:nAtoms)] .= diffusion\n",
    "end\n"
   ]
  },
  {
   "cell_type": "code",
   "execution_count": 143,
   "metadata": {},
   "outputs": [
    {
     "data": {
      "text/plain": [
       "get_neighbors_vectorized (generic function with 1 method)"
      ]
     },
     "metadata": {},
     "output_type": "display_data"
    }
   ],
   "source": [
    "function get_neighbors_vectorized(nAtoms)\n",
    "    matrix_size = sqrt(nAtoms) |> Int\n",
    "    rows = [(div(i - 1, matrix_size) + 1) for i in 1:nAtoms]\n",
    "    cols = [(mod(i - 1, matrix_size) + 1) for i in 1:nAtoms]\n",
    "    neighbor_offsets = [\n",
    "        (-1, 0),  # Up\n",
    "        (1, 0),   # Down\n",
    "        (0, -1),  # Left\n",
    "        (0, 1)    # Right\n",
    "    ]\n",
    "    neighbors = Vector{Vector{Int}}(undef, nAtoms)\n",
    "    for i in 1:nAtoms\n",
    "        row, col = rows[i], cols[i]\n",
    "        atom_neighbors = [\n",
    "            (row + dr - 1) * matrix_size + (col + dc)\n",
    "            for (dr, dc) in neighbor_offsets\n",
    "            if 1 <= row + dr <= matrix_size && 1 <= col + dc <= matrix_size\n",
    "        ]\n",
    "        neighbors[i] = atom_neighbors\n",
    "    end\n",
    "    return neighbors\n",
    "end\n"
   ]
  },
  {
   "cell_type": "code",
   "execution_count": 144,
   "metadata": {},
   "outputs": [
    {
     "data": {
      "text/plain": [
       "computeTWA (generic function with 1 method)"
      ]
     },
     "metadata": {},
     "output_type": "display_data"
    }
   ],
   "source": [
    "function computeTWA(nAtoms, tf, nT, nTraj, dt, Ω, Δ, V, Γ, γ)\n",
    "    tspan = (0, tf)\n",
    "    tSave = LinRange(0, tf, nT)\n",
    "    u0 = (2 * nAtoms)\n",
    "    p = (Ω, Δ, V, Γ, γ, nAtoms)\n",
    "\n",
    "    prob = SDEProblem(drift!, diffusion!, u0, tspan, p)\n",
    "    ensemble_prob = EnsembleProblem(prob; prob_func=prob_func)\n",
    "    \n",
    "    sol = solve(ensemble_prob, EM(), EnsembleThreads();\n",
    "        saveat=tSave, trajectories=nTraj, maxiters=1e+7, dt=dt,\n",
    "        abstol=1e-5, reltol=1e-5)\n",
    "    \n",
    "    return tSave, sol\n",
    "end\n"
   ]
  },
  {
   "cell_type": "code",
   "execution_count": 145,
   "metadata": {},
   "outputs": [
    {
     "data": {
      "text/plain": [
       "4-element Vector{Int64}:\n",
       " 1\n",
       " 2\n",
       " 3\n",
       " 4"
      ]
     },
     "metadata": {},
     "output_type": "display_data"
    }
   ],
   "source": [
    "function compute_spin_Sz(sol, nAtoms)\n",
    "    θ = sol[1:nAtoms, :, :]\n",
    "    Szs = sqrt(3) * cos.(θ)\n",
    "    return Szs\n",
    "end\n",
    "global num_excited = Int(round(percent_excited * nAtoms))\n",
    "global excited_indices = sort(randperm(nAtoms)[1:num_excited])"
   ]
  },
  {
   "cell_type": "code",
   "execution_count": 152,
   "metadata": {},
   "outputs": [],
   "source": [
    "Γ = 1\n",
    "γ = 1 * Γ\n",
    "Δ = 400 * Γ\n",
    "V = Δ\n",
    "natoms = [4,9,16]\n",
    "tf = 25\n",
    "nT = 1000\n",
    "nTraj = 1\n",
    "dt = 1e-4\n",
    "percent_excited = 1.0\n",
    "beta = 0.584\n",
    "delta = 0.451\n",
    "Ω_values = [0.1, 1, 2];"
   ]
  },
  {
   "cell_type": "code",
   "execution_count": 155,
   "metadata": {},
   "outputs": [
    {
     "name": "stdout",
     "output_type": "stream",
     "text": [
      "  2.268213 seconds (37.75 M allocations: 1.379 GiB, 12.36% gc time)\n",
      "  2.286071 seconds (37.75 M allocations: 1.379 GiB, 11.47% gc time)\n",
      "  2.324588 seconds (37.75 M allocations: 1.379 GiB, 11.51% gc time)\n",
      "  3.215584 seconds (56.50 M allocations: 2.176 GiB, 12.51% gc time)\n",
      "  3.134935 seconds (56.50 M allocations: 2.176 GiB, 11.82% gc time)\n",
      "  3.344457 seconds (56.50 M allocations: 2.176 GiB, 12.10% gc time)\n",
      "  4.662951 seconds (82.75 M allocations: 3.383 GiB, 14.30% gc time)\n",
      "  4.602817 seconds (82.75 M allocations: 3.383 GiB, 13.97% gc time)\n",
      "  4.704061 seconds (82.75 M allocations: 3.383 GiB, 14.20% gc time)\n",
      " 30.544997 seconds (531.02 M allocations: 20.812 GiB, 12.98% gc time)\n"
     ]
    }
   ],
   "source": [
    "@time begin\n",
    "    for nAtoms1 in natoms\n",
    "        global nAtoms = nAtoms1\n",
    "        for Ω1 in Ω_values\n",
    "            Ω = Ω1\n",
    "            @time t, sol = computeTWA(nAtoms, tf, nT, nTraj, dt, Ω, Δ, V, Γ, γ)\n",
    "        end\n",
    "    end\n",
    "end"
   ]
  }
 ],
 "metadata": {
  "kernelspec": {
   "display_name": "Julia 1.11.1",
   "language": "julia",
   "name": "julia-1.11"
  },
  "language_info": {
   "file_extension": ".jl",
   "mimetype": "application/julia",
   "name": "julia",
   "version": "1.11.1"
  }
 },
 "nbformat": 4,
 "nbformat_minor": 2
}
