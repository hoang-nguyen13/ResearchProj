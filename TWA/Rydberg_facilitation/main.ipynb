{
 "cells": [
  {
   "cell_type": "code",
   "execution_count": 4,
   "metadata": {},
   "outputs": [],
   "source": [
    "using LaTeXStrings\n",
    "using JLD2\n",
    "BLAS.set_num_threads(1)"
   ]
  },
  {
   "cell_type": "code",
   "execution_count": 40,
   "metadata": {},
   "outputs": [
    {
     "name": "stderr",
     "output_type": "stream",
     "text": [
      "WARNING: replacing module MyParams.\n",
      "WARNING: replacing module MyFunctions.\n",
      "WARNING: using MyParams.Γ in module Main conflicts with an existing identifier.\n",
      "WARNING: using MyParams.γ in module Main conflicts with an existing identifier.\n",
      "WARNING: using MyParams.Δ in module Main conflicts with an existing identifier.\n",
      "WARNING: using MyParams.V in module Main conflicts with an existing identifier.\n",
      "WARNING: using MyParams.nAtoms in module Main conflicts with an existing identifier.\n",
      "WARNING: using MyParams.case in module Main conflicts with an existing identifier.\n",
      "WARNING: using MyParams.tf in module Main conflicts with an existing identifier.\n",
      "WARNING: using MyParams.nT in module Main conflicts with an existing identifier.\n",
      "WARNING: using MyParams.nTraj in module Main conflicts with an existing identifier.\n",
      "WARNING: using MyParams.dt in module Main conflicts with an existing identifier.\n",
      "WARNING: using MyParams.Ω_values in module Main conflicts with an existing identifier.\n"
     ]
    }
   ],
   "source": [
    "include(\"parameters.jl\")\n",
    "include(\"functions.jl\")\n",
    "using .MyFunctions\n",
    "using .MyParams"
   ]
  },
  {
   "cell_type": "code",
   "execution_count": 38,
   "metadata": {},
   "outputs": [],
   "source": [
    "script_dir = @__DIR__\n",
    "data_folder = joinpath(script_dir, \"results_data\")\n",
    "\n",
    "if !isdir(data_folder)\n",
    "    mkdir(data_folder)\n",
    "end"
   ]
  },
  {
   "cell_type": "code",
   "execution_count": 39,
   "metadata": {},
   "outputs": [
    {
     "name": "stdout",
     "output_type": "stream",
     "text": [
      "186.664683 seconds (3.05 G allocations: 159.648 GiB, 24.51% gc time, 11.50% compilation time)\n",
      "175.311980 seconds (3.05 G allocations: 159.358 GiB, 25.67% gc time)\n",
      "173.797264 seconds (3.05 G allocations: 159.358 GiB, 24.63% gc time)\n",
      "190.586965 seconds (3.05 G allocations: 159.358 GiB, 23.79% gc time)\n",
      "187.032038 seconds (3.05 G allocations: 159.358 GiB, 23.21% gc time)\n",
      "180.309509 seconds (3.05 G allocations: 159.358 GiB, 23.76% gc time)\n",
      "201.288718 seconds (3.05 G allocations: 159.358 GiB, 24.83% gc time)\n",
      "208.100870 seconds (3.05 G allocations: 159.358 GiB, 23.33% gc time)\n",
      "189.851039 seconds (3.05 G allocations: 159.358 GiB, 23.68% gc time)\n",
      "213.991014 seconds (3.05 G allocations: 159.358 GiB, 22.91% gc time)\n",
      "205.540002 seconds (3.05 G allocations: 159.358 GiB, 23.47% gc time)\n",
      "172.750754 seconds (3.05 G allocations: 159.358 GiB, 26.26% gc time)\n",
      "155.126406 seconds (3.05 G allocations: 159.358 GiB, 26.18% gc time)\n",
      "2441.166567 seconds (39.59 G allocations: 2.024 TiB, 24.25% gc time, 0.90% compilation time)\n"
     ]
    }
   ],
   "source": [
    "@time begin\n",
    "    for Ω1 in Ω_values\n",
    "        Ω = Ω1\n",
    "        @time t, sol = MyFunctions.computeTWA(MyParams.nAtoms, MyParams.tf, MyParams.nT, MyParams.nTraj, MyParams.dt, Ω, MyParams.Δ, MyParams.V, MyParams.Γ, MyParams.γ)\n",
    "        Sz_vals = MyFunctions.compute_spin_Sz(sol, MyParams.nAtoms)\n",
    "        sz_mean = mean(Sz_vals, dims=3)[:, :]\n",
    "        sz_mean_mean = (1 .+ mean(mean(Sz_vals, dims=3)[:, :], dims=1)) / 2\n",
    "        @save \"$(data_folder)/sz_mean_steady_for_$(case)D,Ω=$(Ω).jld2\" t sz_mean_mean\n",
    "    end\n",
    "end"
   ]
  }
 ],
 "metadata": {
  "kernelspec": {
   "display_name": "Julia 1.10.5",
   "language": "julia",
   "name": "julia-1.10"
  },
  "language_info": {
   "file_extension": ".jl",
   "mimetype": "application/julia",
   "name": "julia",
   "version": "1.10.5"
  }
 },
 "nbformat": 4,
 "nbformat_minor": 2
}
