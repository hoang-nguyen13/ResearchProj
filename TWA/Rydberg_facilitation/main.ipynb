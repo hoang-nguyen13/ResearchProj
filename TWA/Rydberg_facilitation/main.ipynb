{
 "cells": [
  {
   "cell_type": "code",
   "execution_count": null,
   "metadata": {},
   "outputs": [],
   "source": [
    "using LaTeXStrings\n",
    "using JLD2\n",
    "using Folds\n",
    "BLAS.set_num_threads(1)"
   ]
  },
  {
   "cell_type": "code",
   "execution_count": 2,
   "metadata": {},
   "outputs": [],
   "source": [
    "include(\"parameters.jl\")\n",
    "include(\"functions.jl\")\n",
    "using .MyFunctions\n",
    "using .MyParams"
   ]
  },
  {
   "cell_type": "code",
   "execution_count": 3,
   "metadata": {},
   "outputs": [],
   "source": [
    "script_dir = @__DIR__\n",
    "data_folder = joinpath(script_dir, \"results_data\")\n",
    "\n",
    "if !isdir(data_folder)\n",
    "    mkdir(data_folder)\n",
    "end"
   ]
  },
  {
   "cell_type": "code",
   "execution_count": null,
   "metadata": {},
   "outputs": [],
   "source": [
    "@time begin\n",
    "    for Ω1 in Ω_values\n",
    "        Ω = Ω1\n",
    "        @time t, sol = MyFunctions.computeTWA(MyParams.nAtoms, MyParams.tf, MyParams.nT, MyParams.nTraj, MyParams.dt, Ω, MyParams.Δ, MyParams.V, MyParams.Γ, MyParams.γ)\n",
    "        Sz_vals = MyFunctions.compute_spin_Sz(sol, MyParams.nAtoms)\n",
    "        sz_mean = mean(Sz_vals, dims=3)[:, :]\n",
    "        sz_mean_mean = (1 .+ mean(mean(Sz_vals, dims=3)[:, :], dims=1)) / 2\n",
    "        @save \"$(data_folder)/sz_mean_steady_for_$(case)D,Ω=$(Ω).jld2\" t sz_mean_mean\n",
    "    end\n",
    "end"
   ]
  }
 ],
 "metadata": {
  "kernelspec": {
   "display_name": "Julia 1.10.5",
   "language": "julia",
   "name": "julia-1.10"
  },
  "language_info": {
   "file_extension": ".jl",
   "mimetype": "application/julia",
   "name": "julia",
   "version": "1.10.5"
  }
 },
 "nbformat": 4,
 "nbformat_minor": 2
}
