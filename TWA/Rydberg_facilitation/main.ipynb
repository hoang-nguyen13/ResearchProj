{
 "cells": [
  {
   "cell_type": "code",
   "execution_count": 10,
   "metadata": {},
   "outputs": [],
   "source": [
    "using LaTeXStrings\n",
    "using JLD2\n",
    "using LinearAlgebra\n",
    "using Statistics\n",
    "using DifferentialEquations\n",
    "using Random\n",
    "BLAS.set_num_threads(1)"
   ]
  },
  {
   "cell_type": "code",
   "execution_count": 11,
   "metadata": {},
   "outputs": [
    {
     "data": {
      "text/plain": [
       "sampleSpinZMinus (generic function with 1 method)"
      ]
     },
     "metadata": {},
     "output_type": "display_data"
    }
   ],
   "source": [
    "function sampleSpinZPlus(n)\n",
    "    θ = fill(acos(1 / sqrt(3)), n)\n",
    "    ϕ = 2π * rand(n)                  \n",
    "    return θ, ϕ\n",
    "end\n",
    "function sampleSpinZMinus(n)\n",
    "    θ = fill(π - acos(1 / sqrt(3)), n)   \n",
    "    ϕ = 2π * rand(n)                  \n",
    "    return θ, ϕ\n",
    "end"
   ]
  },
  {
   "cell_type": "code",
   "execution_count": 12,
   "metadata": {},
   "outputs": [
    {
     "data": {
      "text/plain": [
       "prob_func (generic function with 1 method)"
      ]
     },
     "metadata": {},
     "output_type": "display_data"
    }
   ],
   "source": [
    "#prob func looks like this bc i sometimes want to have some number of particles excited and some not.\n",
    "#but now, i have all particles excited.\n",
    "function prob_func(prob, i, repeat)\n",
    "    u0 = Vector{Float64}(undef, 2 * nAtoms)\n",
    "    excited_indices_set = Set(excited_indices)\n",
    "    non_excited_indices = setdiff(1:nAtoms, excited_indices)\n",
    "    θ_excited, ϕ_excited = sampleSpinZPlus(length(excited_indices))\n",
    "    u0[excited_indices] = θ_excited\n",
    "    u0[nAtoms.+excited_indices] = ϕ_excited\n",
    "    θ_non_excited, ϕ_non_excited = sampleSpinZMinus(length(non_excited_indices))\n",
    "    u0[non_excited_indices] = θ_non_excited\n",
    "    u0[nAtoms.+non_excited_indices] = ϕ_non_excited\n",
    "    return remake(prob, u0=u0)\n",
    "end"
   ]
  },
  {
   "cell_type": "code",
   "execution_count": 13,
   "metadata": {},
   "outputs": [
    {
     "data": {
      "text/plain": [
       "diffusion! (generic function with 1 method)"
      ]
     },
     "metadata": {},
     "output_type": "display_data"
    }
   ],
   "source": [
    "function drift!(du, u, p, t)\n",
    "    neighbors = get_neighbors_vectorized(nAtoms)\n",
    "    Ω, Δ, V, Γ, γ = p\n",
    "    θ = u[1:nAtoms]\n",
    "    ϕ = u[nAtoms.+(1:nAtoms)]\n",
    "    sqrt_3 = sqrt(3)\n",
    "    dϕ_drift_sum = zeros(nAtoms)\n",
    "    if case == 1\n",
    "        dϕ_drift_sum[2:end-1] .= 2 .+ sqrt_3 .* (cos.(θ[1:end-2]) .+ cos.(θ[3:end]))\n",
    "        dϕ_drift_sum[1] = 1 + sqrt_3 * cos(θ[2]) \n",
    "        dϕ_drift_sum[end] = 1 + sqrt_3 * cos(θ[end-1])\n",
    "    end\n",
    "    if case == 2\n",
    "        for n in 1:nAtoms\n",
    "            neighbor_indices = neighbors[n]\n",
    "            dϕ_drift_sum[n] = sum(1 .+ sqrt_3 * cos.(θ[neighbor_indices]))\n",
    "        end\n",
    "    end\n",
    "    cotθ = cot.(θ)\n",
    "    cscθ = csc.(θ)\n",
    "    dθ_drift = -2 .* Ω .* sin.(ϕ) .+ Γ .* (cotθ .+ cscθ ./ sqrt_3)\n",
    "    dϕ_drift = -2 .* Ω .* cotθ .* cos.(ϕ) .+ (V / 2) .* dϕ_drift_sum .- Δ\n",
    "    du[1:nAtoms] .= dθ_drift\n",
    "    du[nAtoms.+(1:nAtoms)] .= dϕ_drift\n",
    "end\n",
    "function diffusion!(du, u, p, t)\n",
    "    Ω, Δ, V, Γ, γ = p\n",
    "    θ = u[1:nAtoms]\n",
    "    sqrt_3 = sqrt(3)\n",
    "    term1 = 9 / 6\n",
    "    term2 = (4 * sqrt_3 / 6) .* cos.(θ)\n",
    "    term3 = (3 / 6) .* cos.(2 .* θ)\n",
    "    cscθ2 = csc.(θ) .^ 2\n",
    "    diffusion = sqrt.(Γ .* (term1 .+ term2 .+ term3) .* cscθ2 .+ 4 .* γ)\n",
    "    du[1:nAtoms] .= 0.0\n",
    "    du[nAtoms.+(1:nAtoms)] .= diffusion\n",
    "end"
   ]
  },
  {
   "cell_type": "code",
   "execution_count": 14,
   "metadata": {},
   "outputs": [
    {
     "data": {
      "text/plain": [
       "get_neighbors_vectorized (generic function with 1 method)"
      ]
     },
     "metadata": {},
     "output_type": "display_data"
    }
   ],
   "source": [
    "function get_neighbors_vectorized(nAtoms)\n",
    "    matrix_size = sqrt(nAtoms) |> Int\n",
    "    rows = [(div(i - 1, matrix_size) + 1) for i in 1:nAtoms]\n",
    "    cols = [(mod(i - 1, matrix_size) + 1) for i in 1:nAtoms]\n",
    "    neighbor_offsets = [\n",
    "        (-1, 0), \n",
    "        (1, 0), \n",
    "        (0, -1),\n",
    "        (0, 1)\n",
    "    ]\n",
    "    neighbors = Vector{Vector{Int}}(undef, nAtoms)\n",
    "    for i in 1:nAtoms\n",
    "        row, col = rows[i], cols[i]\n",
    "        atom_neighbors = [\n",
    "            (row + dr - 1) * matrix_size + (col + dc)\n",
    "            for (dr, dc) in neighbor_offsets\n",
    "            if 1 <= row + dr <= matrix_size && 1 <= col + dc <= matrix_size\n",
    "        ]\n",
    "        neighbors[i] = atom_neighbors\n",
    "    end\n",
    "    return neighbors\n",
    "end"
   ]
  },
  {
   "cell_type": "code",
   "execution_count": 15,
   "metadata": {},
   "outputs": [
    {
     "data": {
      "text/plain": [
       "computeTWA (generic function with 1 method)"
      ]
     },
     "metadata": {},
     "output_type": "display_data"
    }
   ],
   "source": [
    "function computeTWA(nAtoms, tf, nT, nTraj, dt, Ω, Δ, V, Γ, γ)\n",
    "    tspan = (0, tf)\n",
    "    tSave = LinRange(0, tf, nT)\n",
    "    u0 = Vector{Float64}(undef, 2 * nAtoms)\n",
    "    p = (Ω, Δ, V, Γ, γ, nAtoms)\n",
    "\n",
    "    prob = SDEProblem(drift!, diffusion!, u0, tspan, p)\n",
    "    ensemble_prob = EnsembleProblem(prob; prob_func=prob_func)\n",
    "    \n",
    "    sol = solve(ensemble_prob, EM(), EnsembleThreads();\n",
    "        saveat=tSave, trajectories=nTraj, maxiters=1e+7, dt=dt,\n",
    "        abstol=1e-5, reltol=1e-5)\n",
    "    \n",
    "    return tSave, sol\n",
    "end"
   ]
  },
  {
   "cell_type": "code",
   "execution_count": 16,
   "metadata": {},
   "outputs": [
    {
     "data": {
      "text/plain": [
       "compute_spin_Sz (generic function with 1 method)"
      ]
     },
     "metadata": {},
     "output_type": "display_data"
    }
   ],
   "source": [
    "function compute_spin_Sz(sol, nAtoms)\n",
    "    θ = sol[1:nAtoms, :, :]\n",
    "    Szs = sqrt(3) * cos.(θ)\n",
    "    return Szs\n",
    "end"
   ]
  },
  {
   "cell_type": "code",
   "execution_count": null,
   "metadata": {},
   "outputs": [
    {
     "data": {
      "text/plain": [
       "63-element Vector{Float64}:\n",
       "  0.1\n",
       "  0.5\n",
       "  0.9\n",
       "  1.3\n",
       "  1.7\n",
       "  2.1\n",
       "  2.5\n",
       "  2.9\n",
       "  3.3\n",
       "  3.7\n",
       "  ⋮\n",
       " 21.7\n",
       " 22.1\n",
       " 22.5\n",
       " 22.9\n",
       " 23.3\n",
       " 23.7\n",
       " 24.1\n",
       " 24.5\n",
       " 24.9"
      ]
     },
     "metadata": {},
     "output_type": "display_data"
    }
   ],
   "source": [
    "Γ = 1\n",
    "γ = 10 * Γ\n",
    "Δ = 400 * Γ\n",
    "V = Δ\n",
    "nAtoms_list = [4]\n",
    "tf = 25\n",
    "nT = 1000\n",
    "nTraj = 10\n",
    "dt = 1e-3\n",
    "percent_excited = 1.0\n",
    "case = 2\n",
    "if case == 1\n",
    "    beta = 0.276\n",
    "    delta = 0.159\n",
    "    Ω_values = [1,3,5,7,9,11,13,15,17,19,21,23,25,27,29,31,33,35,37,40]\n",
    "else\n",
    "    beta = 0.584\n",
    "    delta = 0.451\n",
    "    Ω_values = [0.1, 0.5, 0.9, 1.3, 1.7,\n",
    "    2.1, 2.5, 2.9, 3.3, 3.7, 4.1, 4.5,\n",
    "    4.9, 5.3, 5.7, 6.1, 6.5, 6.9, 7.3,\n",
    "    7.7, 8.1, 8.5, 8.9, 9.3, 9.7, 10.1,\n",
    "    10.5, 10.9, 11.3, 11.7, 12.1, 12.5,\n",
    "    12.9, 13.3, 13.7, 14.1, 14.5, 14.9,\n",
    "    15.3, 15.7, 16.1, 16.5, 16.9, 17.3,\n",
    "    17.7, 18.1, 18.5, 18.9, 19.3, 19.7,\n",
    "    20.1, 20.5, 20.9, 21.3, 21.7, 22.1,\n",
    "    22.5, 22.9, 23.3, 23.7, 24.1, 24.5, 24.9];\n",
    "end\n"
   ]
  },
  {
   "cell_type": "code",
   "execution_count": 18,
   "metadata": {},
   "outputs": [
    {
     "name": "stdout",
     "output_type": "stream",
     "text": [
      "Computing for nAtoms = 4...\n",
      "\n",
      "Computing for Ω = 0.1...\n",
      "\n",
      "  9.537693 seconds (39.85 M allocations: 2.057 GiB, 12.59% gc time, 72.68% compilation time)\n",
      "Computing for Ω = 0.5...\n",
      "\n",
      "  2.817900 seconds (29.76 M allocations: 1.421 GiB, 6.54% gc time)\n",
      "Computing for Ω = 0.9...\n",
      "\n",
      "  2.819526 seconds (29.76 M allocations: 1.421 GiB, 6.07% gc time)\n",
      "Computing for Ω = 1.3...\n",
      "\n",
      "  2.696038 seconds (29.76 M allocations: 1.421 GiB, 5.87% gc time)\n",
      "Computing for Ω = 1.7...\n",
      "\n",
      "  2.574483 seconds (29.76 M allocations: 1.421 GiB, 5.70% gc time)\n",
      "Computing for Ω = 2.1...\n",
      "\n",
      "  3.143980 seconds (29.76 M allocations: 1.421 GiB, 8.83% gc time)\n",
      "Computing for Ω = 2.5...\n",
      "\n",
      "  2.591305 seconds (29.76 M allocations: 1.421 GiB, 5.91% gc time)\n",
      "Computing for Ω = 2.9...\n",
      "\n",
      "  2.840593 seconds (29.76 M allocations: 1.421 GiB, 6.12% gc time)\n",
      "Computing for Ω = 3.3...\n",
      "\n",
      "  2.552223 seconds (29.76 M allocations: 1.421 GiB, 5.64% gc time)\n",
      "Computing for Ω = 3.7...\n",
      "\n",
      "  2.610251 seconds (29.76 M allocations: 1.421 GiB, 5.60% gc time)\n",
      "Computing for Ω = 4.1...\n",
      "\n",
      "  2.646378 seconds (29.76 M allocations: 1.421 GiB, 6.01% gc time)\n",
      "Computing for Ω = 4.5...\n",
      "\n",
      "  2.773717 seconds (29.76 M allocations: 1.421 GiB, 5.83% gc time)\n",
      "Computing for Ω = 4.9...\n",
      "\n",
      "  2.674794 seconds (29.76 M allocations: 1.421 GiB, 5.95% gc time)\n",
      "Computing for Ω = 5.3...\n",
      "\n",
      "  2.566228 seconds (29.76 M allocations: 1.421 GiB, 5.40% gc time)\n",
      "Computing for Ω = 5.7...\n",
      "\n",
      "  2.607340 seconds (29.76 M allocations: 1.421 GiB, 5.49% gc time)\n",
      "Computing for Ω = 6.1...\n",
      "\n",
      "  2.725840 seconds (29.76 M allocations: 1.421 GiB, 5.74% gc time)\n",
      "Computing for Ω = 6.5...\n",
      "\n",
      "  2.595115 seconds (29.76 M allocations: 1.421 GiB, 5.76% gc time)\n",
      "Computing for Ω = 6.9...\n",
      "\n",
      "  2.769495 seconds (29.76 M allocations: 1.421 GiB, 6.11% gc time)\n",
      "Computing for Ω = 7.3...\n",
      "\n",
      "  2.632874 seconds (29.76 M allocations: 1.421 GiB, 5.97% gc time)\n",
      "Computing for Ω = 7.7...\n",
      "\n",
      "  2.682740 seconds (29.76 M allocations: 1.421 GiB, 5.80% gc time)\n",
      "Computing for Ω = 8.1...\n",
      "\n",
      "  2.618924 seconds (29.76 M allocations: 1.421 GiB, 5.83% gc time)\n",
      "Computing for Ω = 8.5...\n",
      "\n",
      "  2.599623 seconds (29.76 M allocations: 1.421 GiB, 6.05% gc time)\n",
      "Computing for Ω = 8.9...\n",
      "\n",
      "  2.557793 seconds (29.76 M allocations: 1.421 GiB, 5.88% gc time)\n",
      "Computing for Ω = 9.3...\n",
      "\n",
      "  2.587377 seconds (29.76 M allocations: 1.421 GiB, 5.62% gc time)\n",
      "Computing for Ω = 9.7...\n",
      "\n",
      "  2.553441 seconds (29.76 M allocations: 1.421 GiB, 5.70% gc time)\n",
      "Computing for Ω = 10.1...\n",
      "\n",
      "  2.586320 seconds (29.76 M allocations: 1.421 GiB, 5.80% gc time)\n",
      "Computing for Ω = 10.5...\n",
      "\n",
      "  2.553344 seconds (29.76 M allocations: 1.421 GiB, 5.91% gc time)\n",
      "Computing for Ω = 10.9...\n",
      "\n",
      "  2.581994 seconds (29.76 M allocations: 1.421 GiB, 5.40% gc time)\n",
      "Computing for Ω = 11.3...\n",
      "\n",
      "  2.520748 seconds (29.76 M allocations: 1.421 GiB, 5.64% gc time)\n",
      "Computing for Ω = 11.7...\n",
      "\n",
      "  2.524359 seconds (29.76 M allocations: 1.421 GiB, 5.73% gc time)\n",
      "Computing for Ω = 12.1...\n",
      "\n",
      "  2.557331 seconds (29.76 M allocations: 1.421 GiB, 5.56% gc time)\n",
      "Computing for Ω = 12.5...\n",
      "\n",
      "  2.753330 seconds (29.76 M allocations: 1.421 GiB, 5.67% gc time)\n",
      "Computing for Ω = 12.9...\n",
      "\n",
      "  2.542355 seconds (29.76 M allocations: 1.421 GiB, 5.62% gc time)\n",
      "Computing for Ω = 13.3...\n",
      "\n",
      "  2.517555 seconds (29.76 M allocations: 1.421 GiB, 5.41% gc time)\n",
      "Computing for Ω = 13.7...\n",
      "\n",
      "  2.600445 seconds (29.76 M allocations: 1.421 GiB, 5.75% gc time)\n",
      "Computing for Ω = 14.1...\n",
      "\n",
      "  2.539214 seconds (29.76 M allocations: 1.421 GiB, 5.59% gc time)\n",
      "Computing for Ω = 14.5...\n",
      "\n",
      "  2.526722 seconds (29.76 M allocations: 1.421 GiB, 5.73% gc time)\n",
      "Computing for Ω = 14.9...\n",
      "\n",
      "  2.547393 seconds (29.76 M allocations: 1.421 GiB, 5.70% gc time)\n",
      "Computing for Ω = 15.3...\n",
      "\n",
      "  2.603109 seconds (29.76 M allocations: 1.421 GiB, 5.57% gc time)\n",
      "Computing for Ω = 15.7...\n",
      "\n",
      "  2.526230 seconds (29.76 M allocations: 1.421 GiB, 5.46% gc time)\n",
      "Computing for Ω = 16.1...\n",
      "\n",
      "  2.519408 seconds (29.76 M allocations: 1.421 GiB, 5.55% gc time)\n",
      "Computing for Ω = 16.5...\n",
      "\n",
      "  2.527840 seconds (29.76 M allocations: 1.421 GiB, 5.65% gc time)\n",
      "Computing for Ω = 16.9...\n",
      "\n",
      "  2.541965 seconds (29.76 M allocations: 1.421 GiB, 5.64% gc time)\n",
      "Computing for Ω = 17.3...\n",
      "\n",
      "  2.587870 seconds (29.76 M allocations: 1.421 GiB, 5.52% gc time)\n",
      "Computing for Ω = 17.7...\n",
      "\n",
      "  2.590027 seconds (29.76 M allocations: 1.421 GiB, 5.65% gc time)\n",
      "Computing for Ω = 18.1...\n",
      "\n",
      "  2.527867 seconds (29.76 M allocations: 1.421 GiB, 5.57% gc time)\n",
      "Computing for Ω = 18.5...\n",
      "\n",
      "  2.994046 seconds (29.77 M allocations: 1.421 GiB, 18.31% gc time, 0.31% compilation time: 100% of which was recompilation)\n",
      "Computing for Ω = 18.9...\n",
      "\n",
      "  2.540422 seconds (29.76 M allocations: 1.421 GiB, 5.60% gc time)\n",
      "Computing for Ω = 19.3...\n",
      "\n",
      "  2.596164 seconds (29.76 M allocations: 1.421 GiB, 5.66% gc time)\n",
      "Computing for Ω = 19.7...\n",
      "\n",
      "  2.556319 seconds (29.76 M allocations: 1.421 GiB, 5.91% gc time)\n",
      "Computing for Ω = 20.1...\n",
      "\n",
      "  2.554980 seconds (29.76 M allocations: 1.421 GiB, 5.91% gc time)\n",
      "Computing for Ω = 20.5...\n",
      "\n",
      "  2.529429 seconds (29.76 M allocations: 1.421 GiB, 5.73% gc time)\n",
      "Computing for Ω = 20.9...\n",
      "\n",
      "  2.592124 seconds (29.76 M allocations: 1.421 GiB, 5.58% gc time)\n",
      "Computing for Ω = 21.3...\n",
      "\n",
      "  2.588370 seconds (29.76 M allocations: 1.421 GiB, 6.06% gc time)\n",
      "Computing for Ω = 21.7...\n",
      "\n",
      "  2.552475 seconds (29.76 M allocations: 1.421 GiB, 5.92% gc time)\n",
      "Computing for Ω = 22.1...\n",
      "\n",
      "  2.558724 seconds (29.76 M allocations: 1.421 GiB, 6.06% gc time)\n",
      "Computing for Ω = 22.5...\n",
      "\n",
      "  2.607338 seconds (29.76 M allocations: 1.421 GiB, 5.76% gc time)\n",
      "Computing for Ω = 22.9...\n",
      "\n",
      "  2.549426 seconds (29.76 M allocations: 1.421 GiB, 5.79% gc time)\n",
      "Computing for Ω = 23.3...\n",
      "\n",
      "  2.538199 seconds (29.76 M allocations: 1.421 GiB, 5.52% gc time)\n",
      "Computing for Ω = 23.7...\n",
      "\n",
      "  2.571017 seconds (29.76 M allocations: 1.421 GiB, 6.08% gc time)\n",
      "Computing for Ω = 24.1...\n",
      "\n",
      "  2.606941 seconds (29.76 M allocations: 1.421 GiB, 5.45% gc time)\n",
      "Computing for Ω = 24.5...\n",
      "\n",
      "  2.571805 seconds (29.76 M allocations: 1.421 GiB, 5.64% gc time)\n",
      "Computing for Ω = 24.9...\n",
      "\n",
      "  2.558800 seconds (29.76 M allocations: 1.421 GiB, 5.63% gc time)\n",
      "174.930518 seconds (1.89 G allocations: 90.485 GiB, 6.34% gc time, 5.74% compilation time: 9% of which was recompilation)\n"
     ]
    }
   ],
   "source": [
    "script_dir = @__DIR__\n",
    "\n",
    "@time begin\n",
    "    for nAtoms1 in nAtoms_list\n",
    "        global nAtoms = nAtoms1\n",
    "        global num_excited = Int(round(percent_excited * nAtoms))\n",
    "        global excited_indices = sort(randperm(nAtoms)[1:num_excited])\n",
    "        data_folder = joinpath(script_dir, \"results_data/atoms=$(nAtoms),Δ=$(Δ),γ=$(γ)\")\n",
    "        if !isdir(data_folder)\n",
    "            mkdir(data_folder)\n",
    "        end\n",
    "        println(\"Computing for nAtoms = $(nAtoms)...\\n\")\n",
    "        for Ω1 in Ω_values\n",
    "            println(\"Computing for Ω = $(Ω1)...\\n\")\n",
    "            Ω = Ω1\n",
    "            @time t, sol = computeTWA(nAtoms, tf, nT, nTraj, dt, Ω, Δ, V, Γ, γ)\n",
    "            Sz_vals = compute_spin_Sz(sol, nAtoms)\n",
    "            sz_mean = mean(Sz_vals, dims=3)[:, :]\n",
    "            sz_mean_mean = (1 .+ mean(mean(Sz_vals, dims=3)[:, :], dims=1)) / 2\n",
    "            @save \"$(data_folder)/sz_mean_steady_for_$(case)D,Ω=$(Ω),Δ=$(Δ),γ=$(γ).jld2\" t sz_mean_mean\n",
    "        end\n",
    "    end\n",
    "end"
   ]
  }
 ],
 "metadata": {
  "kernelspec": {
   "display_name": "Julia 1.10.5",
   "language": "julia",
   "name": "julia-1.10"
  },
  "language_info": {
   "file_extension": ".jl",
   "mimetype": "application/julia",
   "name": "julia",
   "version": "1.10.5"
  }
 },
 "nbformat": 4,
 "nbformat_minor": 2
}
