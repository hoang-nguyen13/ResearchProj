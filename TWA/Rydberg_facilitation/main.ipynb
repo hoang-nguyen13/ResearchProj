{
 "cells": [
  {
   "cell_type": "code",
   "execution_count": 1,
   "metadata": {},
   "outputs": [],
   "source": [
    "using LaTeXStrings\n",
    "using JLD2\n",
    "using LinearAlgebra\n",
    "using Statistics\n",
    "using DifferentialEquations\n",
    "using Random\n",
    "using Plots\n",
    "BLAS.set_num_threads(1)"
   ]
  },
  {
   "cell_type": "code",
   "execution_count": 2,
   "metadata": {},
   "outputs": [
    {
     "data": {
      "text/plain": [
       "sampleSpinZMinus (generic function with 1 method)"
      ]
     },
     "metadata": {},
     "output_type": "display_data"
    }
   ],
   "source": [
    "function sampleSpinZPlus(n)\n",
    "    θ = fill(acos(1 / sqrt(3)), n)\n",
    "    ϕ = 2π * rand(n)                  \n",
    "    return θ, ϕ\n",
    "end\n",
    "function sampleSpinZMinus(n)\n",
    "    θ = fill(π - acos(1 / sqrt(3)), n)   \n",
    "    ϕ = 2π * rand(n)                  \n",
    "    return θ, ϕ\n",
    "end"
   ]
  },
  {
   "cell_type": "code",
   "execution_count": 3,
   "metadata": {},
   "outputs": [
    {
     "data": {
      "text/plain": [
       "prob_func (generic function with 1 method)"
      ]
     },
     "metadata": {},
     "output_type": "display_data"
    }
   ],
   "source": [
    "#prob func looks like this bc i sometimes want to have some number of particles excited and some not.\n",
    "#but now, i have all particles excited.\n",
    "function prob_func(prob, i, repeat)\n",
    "    u0 = Vector{Float64}(undef, 2 * nAtoms)\n",
    "    excited_indices_set = Set(excited_indices)\n",
    "    non_excited_indices = setdiff(1:nAtoms, excited_indices)\n",
    "    θ_excited, ϕ_excited = sampleSpinZPlus(length(excited_indices))\n",
    "    u0[excited_indices] = θ_excited\n",
    "    u0[nAtoms.+excited_indices] = ϕ_excited\n",
    "    θ_non_excited, ϕ_non_excited = sampleSpinZMinus(length(non_excited_indices))\n",
    "    u0[non_excited_indices] = θ_non_excited\n",
    "    u0[nAtoms.+non_excited_indices] = ϕ_non_excited\n",
    "    return remake(prob, u0=u0)\n",
    "end"
   ]
  },
  {
   "cell_type": "code",
   "execution_count": 4,
   "metadata": {},
   "outputs": [
    {
     "data": {
      "text/plain": [
       "diffusion! (generic function with 1 method)"
      ]
     },
     "metadata": {},
     "output_type": "display_data"
    }
   ],
   "source": [
    "function drift!(du, u, p, t)\n",
    "    neighbors = get_neighbors_vectorized(nAtoms)\n",
    "    Ω, Δ, V, Γ, γ = p\n",
    "    θ = u[1:nAtoms]\n",
    "    ϕ = u[nAtoms.+(1:nAtoms)]\n",
    "    sqrt_3 = sqrt(3)\n",
    "    dϕ_drift_sum = zeros(nAtoms)\n",
    "    if case == 1\n",
    "        dϕ_drift_sum[2:end-1] .= 2 .+ sqrt_3 .* (cos.(θ[1:end-2]) .+ cos.(θ[3:end]))\n",
    "        dϕ_drift_sum[1] = 1 + sqrt_3 * cos(θ[2]) \n",
    "        dϕ_drift_sum[end] = 1 + sqrt_3 * cos(θ[end-1])\n",
    "    end\n",
    "    if case == 2\n",
    "        for n in 1:nAtoms\n",
    "            neighbor_indices = neighbors[n]\n",
    "            dϕ_drift_sum[n] = sum(1 .+ sqrt_3 * cos.(θ[neighbor_indices]))\n",
    "        end\n",
    "    end\n",
    "    cotθ = cot.(θ)\n",
    "    cscθ = csc.(θ)\n",
    "    dθ_drift = -2 .* Ω .* sin.(ϕ) .+ Γ .* (cotθ .+ cscθ ./ sqrt_3)\n",
    "    dϕ_drift = -2 .* Ω .* cotθ .* cos.(ϕ) .+ (V / 2) .* dϕ_drift_sum .- Δ\n",
    "    du[1:nAtoms] .= dθ_drift\n",
    "    du[nAtoms.+(1:nAtoms)] .= dϕ_drift\n",
    "end\n",
    "function diffusion!(du, u, p, t)\n",
    "    Ω, Δ, V, Γ, γ = p\n",
    "    θ = u[1:nAtoms]\n",
    "    sqrt_3 = sqrt(3)\n",
    "    term1 = 9 / 6\n",
    "    term2 = (4 * sqrt_3 / 6) .* cos.(θ)\n",
    "    term3 = (3 / 6) .* cos.(2 .* θ)\n",
    "    cscθ2 = csc.(θ) .^ 2\n",
    "    diffusion = sqrt.(Γ .* (term1 .+ term2 .+ term3) .* cscθ2 .+ 4 .* γ)\n",
    "    theta_diffusion = sqrt.(γ) .* abs.(sin.(θ))  # Scales with sqrt(γ) and vanishes at θ = 0,π\n",
    "\n",
    "    du[1:nAtoms] .= theta_diffusion\n",
    "    du[nAtoms.+(1:nAtoms)] .= diffusion\n",
    "end"
   ]
  },
  {
   "cell_type": "code",
   "execution_count": 5,
   "metadata": {},
   "outputs": [
    {
     "data": {
      "text/plain": [
       "get_neighbors_vectorized (generic function with 1 method)"
      ]
     },
     "metadata": {},
     "output_type": "display_data"
    }
   ],
   "source": [
    "function get_neighbors_vectorized(nAtoms)\n",
    "    matrix_size = sqrt(nAtoms) |> Int\n",
    "    rows = [(div(i - 1, matrix_size) + 1) for i in 1:nAtoms]\n",
    "    cols = [(mod(i - 1, matrix_size) + 1) for i in 1:nAtoms]\n",
    "    neighbor_offsets = [\n",
    "        (-1, 0), \n",
    "        (1, 0), \n",
    "        (0, -1),\n",
    "        (0, 1)\n",
    "    ]\n",
    "    neighbors = Vector{Vector{Int}}(undef, nAtoms)\n",
    "    for i in 1:nAtoms\n",
    "        row, col = rows[i], cols[i]\n",
    "        atom_neighbors = [\n",
    "            (row + dr - 1) * matrix_size + (col + dc)\n",
    "            for (dr, dc) in neighbor_offsets\n",
    "            if 1 <= row + dr <= matrix_size && 1 <= col + dc <= matrix_size\n",
    "        ]\n",
    "        neighbors[i] = atom_neighbors\n",
    "    end\n",
    "    return neighbors\n",
    "end"
   ]
  },
  {
   "cell_type": "code",
   "execution_count": 6,
   "metadata": {},
   "outputs": [
    {
     "data": {
      "text/plain": [
       "computeTWA (generic function with 1 method)"
      ]
     },
     "metadata": {},
     "output_type": "display_data"
    }
   ],
   "source": [
    "function computeTWA(nAtoms, tf, nT, nTraj, dt, Ω, Δ, V, Γ, γ)\n",
    "    tspan = (0, tf)\n",
    "    tSave = LinRange(0, tf, nT)\n",
    "    u0 = Vector{Float64}(undef, 2 * nAtoms)\n",
    "    p = (Ω, Δ, V, Γ, γ, nAtoms)\n",
    "\n",
    "    prob = SDEProblem(drift!, diffusion!, u0, tspan, p)\n",
    "    ensemble_prob = EnsembleProblem(prob; prob_func=prob_func)\n",
    "    \n",
    "    sol = solve(ensemble_prob, EM(), EnsembleThreads();\n",
    "        saveat=tSave, trajectories=nTraj, maxiters=1e+7, dt=dt,\n",
    "        abstol=1e-5, reltol=1e-5)\n",
    "    \n",
    "    return tSave, sol\n",
    "end"
   ]
  },
  {
   "cell_type": "code",
   "execution_count": 7,
   "metadata": {},
   "outputs": [
    {
     "data": {
      "text/plain": [
       "compute_spin_Sz (generic function with 1 method)"
      ]
     },
     "metadata": {},
     "output_type": "display_data"
    }
   ],
   "source": [
    "function compute_spin_Sz(sol, nAtoms)\n",
    "    θ = sol[1:nAtoms, :, :]\n",
    "    Szs = sqrt(3) * cos.(θ)\n",
    "    return Szs\n",
    "end"
   ]
  },
  {
   "cell_type": "code",
   "execution_count": 8,
   "metadata": {},
   "outputs": [
    {
     "data": {
      "text/plain": [
       "0:1:12"
      ]
     },
     "metadata": {},
     "output_type": "display_data"
    }
   ],
   "source": [
    "Γ = 1\n",
    "γ = 0.1 * Γ\n",
    "Δ = 400 * Γ\n",
    "V = Δ\n",
    "nAtoms_list = [400]\n",
    "tf = 25\n",
    "nT = 1000\n",
    "nTraj = 100\n",
    "dt = 1e-3\n",
    "percent_excited = 1.0\n",
    "case = 2\n",
    "if case == 1\n",
    "    beta = 0.276\n",
    "    delta = 0.159\n",
    "    Ω_values = [1,3,5,7,9,11,13,15,17,19,21,23,25,27,29,31,33,35,37,40]\n",
    "else\n",
    "    beta = 0.584\n",
    "    delta = 0.451\n",
    "    Ω_values = 0:1:12\n",
    "end\n"
   ]
  },
  {
   "cell_type": "code",
   "execution_count": null,
   "metadata": {},
   "outputs": [
    {
     "name": "stdout",
     "output_type": "stream",
     "text": [
      "Computing for nAtoms = 400...\n",
      "\n",
      "Computing for Ω = 0...\n",
      "\n"
     ]
    }
   ],
   "source": [
    "script_dir = @__DIR__\n",
    "\n",
    "@time begin\n",
    "    for nAtoms1 in nAtoms_list\n",
    "        global nAtoms = nAtoms1\n",
    "        global num_excited = Int(round(percent_excited * nAtoms))\n",
    "        global excited_indices = sort(randperm(nAtoms)[1:num_excited])\n",
    "        data_folder = joinpath(script_dir, \"results_data/atoms=$(nAtoms),Δ=$(Δ),γ=$(γ)\")\n",
    "        if !isdir(data_folder)\n",
    "            mkdir(data_folder)\n",
    "        end\n",
    "        println(\"Computing for nAtoms = $(nAtoms)...\\n\")\n",
    "        for Ω1 in Ω_values\n",
    "            println(\"Computing for Ω = $(Ω1)...\\n\")\n",
    "            Ω = Ω1\n",
    "            @time t, sol = computeTWA(nAtoms, tf, nT, nTraj, dt, Ω, Δ, V, Γ, γ)\n",
    "            Sz_vals = compute_spin_Sz(sol, nAtoms)\n",
    "            sz_mean = mean(Sz_vals, dims=3)[:, :]\n",
    "            @save \"$(data_folder)/sz_mean_steady_for_$(case)D,Ω=$(Ω),Δ=$(Δ),γ=$(γ).jld2\" t sz_mean\n",
    "        end\n",
    "    end\n",
    "end"
   ]
  },
  {
   "cell_type": "code",
   "execution_count": 10,
   "metadata": {},
   "outputs": [],
   "source": [
    "data_dict = Dict()\n",
    "for Ω in Ω_values\n",
    "    file_name = \"results_data/atoms=400,Δ=$(Δ),γ=$(γ)/sz_mean_steady_for_$(case)D,Ω=$(Ω),Δ=$(Δ),γ=$(γ).jld2\"\n",
    "    data_dict[Ω] = load(file_name)\n",
    "end"
   ]
  },
  {
   "cell_type": "code",
   "execution_count": 11,
   "metadata": {},
   "outputs": [],
   "source": [
    "default(dpi=300)"
   ]
  },
  {
   "cell_type": "code",
   "execution_count": null,
   "metadata": {},
   "outputs": [],
   "source": [
    "p1 = plot(\n",
    "    legend=false\n",
    ")\n",
    "for Ω in Ω_values\n",
    "    data = data_dict[Ω]\n",
    "    t = data[\"t\"]\n",
    "    sz_mean = data[\"sz_mean\"]\n",
    "    mean_sz = (1 .+ vec(mean(sz_mean, dims=1))) ./ 2\n",
    "    plot!(p1, t, mean_sz, label=\"Ω=$(Ω)\")\n",
    "end\n",
    "xlabel!(p1, L\"t \\Gamma\")\n",
    "ylabel!(p1, L\"\\langle s_z(t) \\rangle\")\n",
    "title!(p1, \"\\\\gamma = $(γ), Δ = $(Δ), $(case)D, $(nAtoms) atoms\")\n",
    "display(p1)\n"
   ]
  },
  {
   "cell_type": "code",
   "execution_count": null,
   "metadata": {},
   "outputs": [],
   "source": []
  }
 ],
 "metadata": {
  "kernelspec": {
   "display_name": "Julia 1.10.5",
   "language": "julia",
   "name": "julia-1.10"
  },
  "language_info": {
   "file_extension": ".jl",
   "mimetype": "application/julia",
   "name": "julia",
   "version": "1.10.5"
  }
 },
 "nbformat": 4,
 "nbformat_minor": 2
}
